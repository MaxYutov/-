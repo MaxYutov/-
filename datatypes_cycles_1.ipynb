{
 "cells": [
  {
   "cell_type": "markdown",
   "metadata": {},
   "source": [
    "# Домашнее задание к лекции \"Введение в типы данных и циклы. Часть 1\""
   ]
  },
  {
   "cell_type": "markdown",
   "metadata": {},
   "source": [
    "## Задание 1\n",
    "Дана переменная, в которой хранится слово из латинских букв. Напишите код, который выводит на экран:\n",
    "- среднюю букву, если число букв в слове нечетное;\n",
    "- две средних буквы, если число букв четное.\n",
    "\n",
    "Примеры работы программы:  \n",
    "1. `word = 'test'`\n",
    "\n",
    "Результат:  \n",
    "`es`\n",
    "2.     \n",
    "`word = 'testing'`\n",
    "\n",
    "Результат:  \n",
    "`t`"
   ]
  },
  {
   "cell_type": "code",
   "execution_count": 14,
   "metadata": {},
   "outputs": [
    {
     "name": "stdout",
     "output_type": "stream",
     "text": [
      "Введите слово: oooo\n",
      "oo\n"
     ]
    }
   ],
   "source": [
    "word = (input('Введите слово: '))\n",
    "y=len(word)\n",
    "x=y//2\n",
    "if (y%2==0):\n",
    "    print(word[x-1]+word[x])\n",
    "else:\n",
    "    print(word[x])"
   ]
  },
  {
   "cell_type": "markdown",
   "metadata": {},
   "source": [
    "## Задание 2\n",
    "Напишите программу, которая последовательно запрашивает у пользователя числа (по одному за раз) и после первого нуля выводит сумму всех ранее введенных чисел.\n",
    "\n",
    "Примеры работы программы:  \n",
    "1.   \n",
    "\n",
    "```\n",
    "Введите число:  \n",
    "1\n",
    "\n",
    "Введите число:  \n",
    "4\n",
    "\n",
    "Введите число:  \n",
    "6\n",
    "\n",
    "Введите число:  \n",
    "0\n",
    "```\n",
    "\n",
    "Результат:  \n",
    "`11`\n",
    "\n",
    "2.      \n",
    "\n",
    "```\n",
    "Введите число:  \n",
    "0\n",
    "```  \n",
    "\n",
    "Результат:  \n",
    "`0`"
   ]
  },
  {
   "cell_type": "code",
   "execution_count": 9,
   "metadata": {},
   "outputs": [
    {
     "name": "stdout",
     "output_type": "stream",
     "text": [
      "Введите число: 1\n",
      "Введите число: 2\n",
      "Введите число: 3\n",
      "Введите число: 0\n"
     ]
    },
    {
     "data": {
      "text/plain": [
       "6"
      ]
     },
     "execution_count": 9,
     "metadata": {},
     "output_type": "execute_result"
    }
   ],
   "source": [
    "sum = 0\n",
    "a = ''\n",
    "while a != 0:\n",
    "    a = int(input('Введите число: '))\n",
    "    sum += a  \n",
    "sum"
   ]
  },
  {
   "cell_type": "markdown",
   "metadata": {},
   "source": [
    "## Задание 3\n",
    "\n",
    "Мы делаем [MVP](https://ru.wikipedia.org/wiki/%D0%9C%D0%B8%D0%BD%D0%B8%D0%BC%D0%B0%D0%BB%D1%8C%D0%BD%D0%BE_%D0%B6%D0%B8%D0%B7%D0%BD%D0%B5%D1%81%D0%BF%D0%BE%D1%81%D0%BE%D0%B1%D0%BD%D1%8B%D0%B9_%D0%BF%D1%80%D0%BE%D0%B4%D1%83%D0%BA%D1%82) dating-сервиса, и у нас есть список парней и девушек.  \n",
    "Выдвигаем гипотезу: лучшие рекомендации мы получим, если просто отсортируем имена по алфавиту и познакомим людей с одинаковыми индексами после сортировки!\n",
    "Но мы не будем никого знакомить, если кто-то может остаться без пары:\n",
    "\n",
    "Примеры работы программы:  \n",
    "1.  \n",
    "\n",
    "```\n",
    "boys = ['Peter', 'Alex', 'John', 'Arthur', 'Richard']\n",
    "girls = ['Kate', 'Liza', 'Kira', 'Emma', 'Trisha']\n",
    "```\n",
    "\n",
    "Результат:  \n",
    "```\n",
    "Идеальные пары:  \n",
    "Alex и Emma  \n",
    "Arthur и Kate  \n",
    "John и Kira  \n",
    "Peter и Liza  \n",
    "Richard и Trisha \n",
    "```\n",
    "2.     \n",
    "\n",
    "```\n",
    "boys = ['Peter', 'Alex', 'John', 'Arthur', 'Richard', 'Michael']\n",
    "girls = ['Kate', 'Liza', 'Kira', 'Emma', 'Trisha']\n",
    "```\n",
    "\n",
    "Результат:  \n",
    "`Внимание, кто-то может остаться без пары!`"
   ]
  },
  {
   "cell_type": "code",
   "execution_count": 45,
   "metadata": {},
   "outputs": [
    {
     "name": "stdout",
     "output_type": "stream",
     "text": [
      "Идеальные пары: \n",
      "[('Alex', 'Emma'), ('Arthur', 'Kate'), ('John', 'Kira'), ('Michael', 'Liza'), ('Peter', 'Trisha')]\n"
     ]
    }
   ],
   "source": [
    "boys = set(['Peter', 'Alex', 'John', 'Arthur','Michael'])\n",
    "girls = set(['Kate', 'Liza', 'Kira', 'Emma', 'Trisha'])\n",
    "id_pary=zip(sorted(boys),sorted(girls))\n",
    "if len(boys)!=len(girls):\n",
    "    print(\"Внимание, кто-то может остаться без пары!\")\n",
    "else: print('Идеальные пары: ')\n",
    "print(list(id_pary))"
   ]
  },
  {
   "cell_type": "markdown",
   "metadata": {},
   "source": [
    "## Задание 4\n",
    "\n",
    "У нас есть список, содержащий информацию о среднедневной температуре в Фаренгейтах за произвольный период по странам (структура данных в примере).\n",
    "Необходимо написать код, который рассчитает среднюю температуру за период в Цельсиях(!) для каждой страны.\n",
    "\n",
    "Пример работы программы:  \n",
    "```\n",
    "countries_temperature = [\n",
    "    ['Thailand', [75.2, 77, 78.8, 73.4, 68, 75.2, 77]],\n",
    "    ['Germany', [57.2, 55.4, 59, 59, 53.6]],\n",
    "    ['Russia', [35.6, 37.4, 39.2, 41, 42.8, 39.2, 35.6]],\n",
    "    ['Poland', [50, 50, 53.6, 57.2, 55.4, 55.4]]\n",
    "]\n",
    "```\n",
    "\n",
    "Результат:  \n",
    "```\n",
    "Средняя температура в странах:\n",
    "Thailand  -  23.9 С\n",
    "Germany  -  13.8 С\n",
    "Russia  -  3.7 С\n",
    "Poland  -  12.0 С\n",
    "```"
   ]
  },
  {
   "cell_type": "code",
   "execution_count": 23,
   "metadata": {},
   "outputs": [
    {
     "name": "stdout",
     "output_type": "stream",
     "text": [
      "Thailand  -   74.94285714285714  С\n",
      "Germany   -   56.839999999999996 С\n",
      "Russia    -   38.68571428571429  С\n",
      "Poland    -   53.599999999999994 С\n"
     ]
    }
   ],
   "source": [
    "countries_temperature = [\n",
    "    ['Thailand', [75.2, 77, 78.8, 73.4, 68, 75.2, 77]],\n",
    "    ['Germany', [57.2, 55.4, 59, 59, 53.6]],\n",
    "    ['Russia', [35.6, 37.4, 39.2, 41, 42.8, 39.2, 35.6]],\n",
    "    ['Poland', [50, 50, 53.6, 57.2, 55.4, 55.4]]\n",
    "]\n",
    "x=((countries_temperature[0][1][0]+countries_temperature[0][1][1]+countries_temperature[0][1][2]+countries_temperature[0][1][3]+countries_temperature[0][1][4]+countries_temperature[0][1][5]+countries_temperature[0][1][6])/7)\n",
    "x1=((countries_temperature[1][1][0]+countries_temperature[1][1][1]+countries_temperature[1][1][2]+countries_temperature[1][1][3]+countries_temperature[1][1][4])/5)\n",
    "x2=((countries_temperature[2][1][0]+countries_temperature[2][1][1]+countries_temperature[2][1][2]+countries_temperature[2][1][3]+countries_temperature[2][1][4]+countries_temperature[2][1][5]+countries_temperature[2][1][6])/7)\n",
    "x3=((countries_temperature[3][1][0]+countries_temperature[3][1][1]+countries_temperature[3][1][2]+countries_temperature[3][1][3]+countries_temperature[3][1][4]+countries_temperature[3][1][5])/6)\n",
    "'Средняя температура в странах:'\n",
    "print('Thailand  -  ',x, ' С')\n",
    "print('Germany   -  ',x1,'С')\n",
    "print('Russia    -  ',x2,' С')\n",
    "print('Poland    -  ',x3,'С')\n"
   ]
  },
  {
   "cell_type": "markdown",
   "metadata": {},
   "source": [
    "## Задание 5\n",
    "\n",
    "Дан поток логов по количеству просмотренных страниц для каждого пользователя. Вам необходимо написать алгоритм, который считает среднее значение просмотров на пользователя. \n",
    "Т. е. надо посчитать отношение суммы всех просмотров к количеству уникальных пользователей.\n",
    "\n",
    "Примеры работы программы:  \n",
    "1.  \n",
    "\n",
    "```\n",
    "stream = [\n",
    "    '2018-01-01,user1,3',\n",
    "    '2018-01-07,user1,4',\n",
    "    '2018-03-29,user1,1',\n",
    "    '2018-04-04,user1,13',\n",
    "    '2018-01-05,user2,7',\n",
    "    '2018-06-14,user3,4',\n",
    "    '2018-07-02,user3,10',\n",
    "    '2018-03-21,user4,19',\n",
    "    '2018-03-22,user4,4',\n",
    "    '2018-04-22,user4,8',\n",
    "    '2018-05-03,user4,9',\n",
    "    '2018-05-11,user4,11',\n",
    "]\n",
    "```\n",
    "\n",
    "Результат:  \n",
    "`Среднее количество просмотров на уникального пользователя: 23.25`\n",
    "2.     \n",
    "\n",
    "```\n",
    "stream = [\n",
    "    '2018-01-01,user100,150',\n",
    "    '2018-01-07,user99,205',\n",
    "    '2018-03-29,user1001,81'\n",
    "]\n",
    "```\n",
    "\n",
    "Результат:  \n",
    "`Среднее количество просмотров на уникального пользователя: 145.33`"
   ]
  },
  {
   "cell_type": "code",
   "execution_count": 35,
   "metadata": {},
   "outputs": [
    {
     "data": {
      "text/plain": [
       "145.33333333333334"
      ]
     },
     "execution_count": 35,
     "metadata": {},
     "output_type": "execute_result"
    }
   ],
   "source": [
    "stream = [\n",
    "    '2018-01-01,user100,150',\n",
    "    '2018-01-07,user99,205',\n",
    "    '2018-03-29,user1001,81'\n",
    "]\n",
    "x=int(stream[0][-3:])\n",
    "x1=int(stream[1][-3:])\n",
    "x2=int(stream[2][-2:])\n",
    "s=(x+x1+x2)/3\n",
    "s"
   ]
  },
  {
   "cell_type": "markdown",
   "metadata": {},
   "source": [
    "## Задание 6\n",
    "\n",
    "Необходимо у пользователя запрашивать набор чисел разделенных пробелом. В результате должны выводиться числа, которые повторяются в вводе более одного раза.\n",
    "\n",
    "Примеры работы программы:  \n",
    "1.  \n",
    "\n",
    "```\n",
    "Введите числа:\n",
    "4 8 0 3 4 2 0 3\n",
    "```\n",
    "\n",
    "Результат:  \n",
    "`0 3 4`\n",
    "2.     \n",
    "\n",
    "```\n",
    "Введите числа:\n",
    "1 1 2 2 3 3\n",
    "```\n",
    "\n",
    "Результат:  \n",
    "`1 2 3`\n",
    "3.     \n",
    "\n",
    "```\n",
    "Введите числа:\n",
    "1 1 1 1 1 2 2 2\n",
    "```\n",
    "\n",
    "Результат:  \n",
    "`1 2`"
   ]
  },
  {
   "cell_type": "code",
   "execution_count": 24,
   "metadata": {},
   "outputs": [
    {
     "name": "stdout",
     "output_type": "stream",
     "text": [
      "Введите числа: 1 1 2 2 3 3 4 4 5 5\n",
      "{'1', '2', '4', ' ', '3', '5'}\n"
     ]
    }
   ],
   "source": [
    "chisla=input('Введите числа: ')\n",
    "chisla\n",
    "print(set(chisla))"
   ]
  },
  {
   "cell_type": "markdown",
   "metadata": {},
   "source": [
    "#### ПРИМЕЧАНИЕ\n",
    "Домашнее задание сдается ссылкой на репозиторий [GitHub](https://github.com/).\n",
    "Не сможем проверить или помочь, если вы пришлете:\n",
    "- файлы;\n",
    "- архивы;\n",
    "- скриншоты кода.\n",
    "\n",
    "Все обсуждения и консультации по выполнению домашнего задания ведутся только на соответствующем канале в slack.\n",
    "\n",
    "##### Как правильно задавать вопросы аспирантам, преподавателям и коллегам\n",
    "Прежде чем задать вопрос, попробуйте найти ответ в интернете. Навык самостоятельного поиска информации — один из важнейших. Каждый практикующий специалист любого уровня делает это ежедневно.\n",
    "\n",
    "Сформулируйте вопрос по алгоритму:  \n",
    "1) Что я делаю?  \n",
    "2) Какого результата я ожидаю?  \n",
    "3) Как фактический результат отличается от ожидаемого?  \n",
    "4) Что я уже попробовал сделать, чтобы исправить проблему?  \n",
    "\n",
    "По возможности прикрепите к вопросу скриншоты либо ссылки на код. Не выкладывайте все решение, оставляйте только проблемный и воспроизводимый участок кода.\n"
   ]
  }
 ],
 "metadata": {
  "kernelspec": {
   "display_name": "Python 3",
   "language": "python",
   "name": "python3"
  },
  "language_info": {
   "codemirror_mode": {
    "name": "ipython",
    "version": 3
   },
   "file_extension": ".py",
   "mimetype": "text/x-python",
   "name": "python",
   "nbconvert_exporter": "python",
   "pygments_lexer": "ipython3",
   "version": "3.8.3"
  }
 },
 "nbformat": 4,
 "nbformat_minor": 2
}
