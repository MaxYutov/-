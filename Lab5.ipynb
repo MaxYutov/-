{
 "cells": [
  {
   "cell_type": "markdown",
   "metadata": {},
   "source": [
    "# Задание 1\n",
    "Напишите функцию, которая возвращает название валюты (поле ‘Name’) с максимальным значением курса с помощью сервиса https://www.cbr-xml-daily.ru/daily_json.js"
   ]
  },
  {
   "cell_type": "code",
   "execution_count": 1,
   "metadata": {},
   "outputs": [
    {
     "data": {
      "text/plain": [
       "['СДР (специальные права заимствования)']"
      ]
     },
     "execution_count": 1,
     "metadata": {},
     "output_type": "execute_result"
    }
   ],
   "source": [
    "import pandas as pd\n",
    "class R:\n",
    "    def __init__(self, format_,diff):\n",
    "        self.format = format_\n",
    "        self.diff=diff\n",
    "    def maxi(self):\n",
    "        df=pd.read_json('https://www.cbr-xml-daily.ru/daily_json.js')\n",
    "        c=max([df['Valute'][name]['Value']/df['Valute'][name]['Nominal'] for name in df['Valute'].keys()])\n",
    "        return [df['Valute'][x]['Name'] for x in df['Valute'].keys() if df['Valute'][x]['Value']==c]\n",
    "a=R('value',True)\n",
    "a.maxi()"
   ]
  },
  {
   "cell_type": "markdown",
   "metadata": {},
   "source": [
    "# Задание 2\n",
    "Добавьте в класс Rate параметр diff (со значениями True или False), который в случае значения True в методах курсов валют (eur, usd итд) будет возвращать не курс валюты, а изменение по сравнению в прошлым значением. Считайте, self.diff будет принимать значение True только при возврате значения курса. При отображении всей информации о валюте он не используется."
   ]
  },
  {
   "cell_type": "code",
   "execution_count": 8,
   "metadata": {},
   "outputs": [
    {
     "name": "stdout",
     "output_type": "stream",
     "text": [
      "-0.6141999999999967\n"
     ]
    }
   ],
   "source": [
    "class Rate(R):\n",
    "    def __init__(self, format_,diff):\n",
    "        super().__init__(format_,diff)\n",
    "    def exchange_rates(self):\n",
    "        self=pd.read_json('https://www.cbr-xml-daily.ru/daily_json.js')\n",
    "        return self['Valute']\n",
    "    def make_format(self, currency):\n",
    "         response = self.exchange_rates()\n",
    "        \n",
    "         if currency in response:\n",
    "            if self.format == 'full':\n",
    "                return response[currency]\n",
    "            \n",
    "            if self.format == 'value':\n",
    "                if self.diff==True:\n",
    "                         return (df['Valute'][currency]['Value']-df['Valute'][currency]['Previous'])\n",
    "                        \n",
    "                else :\n",
    "                    return response[currency]['Value']\n",
    "            return 'Error'\n",
    "    def eur(self):\n",
    "        \"\"\"Возвращает курс евро на сегодня в формате self.format\"\"\"\n",
    "        return self.make_format('EUR')\n",
    "    \n",
    "    def usd(self):\n",
    "        \"\"\"Возвращает курс доллара на сегодня в формате self.format\"\"\"\n",
    "        return self.make_format('USD')\n",
    "    \n",
    "    def brl(self):\n",
    "        \"\"\"Возвращает курс бразильского реала на сегодня в формате self.format\"\"\"\n",
    "        return self.make_format('BRL')\n",
    " \n",
    "r=Rate('value',True)\n",
    "print(r.usd())"
   ]
  },
  {
   "cell_type": "markdown",
   "metadata": {},
   "source": [
    "# Задание 3 \n",
    "Напишите класс Designer, который учитывает количество международных премий для дизайнеров (из презентации: \"Повышение на 1 грейд за каждые 7 баллов. Получение международной премии – это +2 балла\" для каждой аккредитации увеличиваем счетчик на 1, пока считаем, что все дизайнеры проходят аккредитацию). Считайте, что при выходе на работу сотрудник уже имеет две премии и их количество меняется со стажем (получение премии генератор случайных чисел ). Выполните проверку для 20 аккредитаций дизайнера Елены. Подсказки в коде занятия в разделе “Домашнее задание задача 3”."
   ]
  },
  {
   "cell_type": "code",
   "execution_count": 6,
   "metadata": {},
   "outputs": [
    {
     "name": "stdout",
     "output_type": "stream",
     "text": [
      "7\n",
      "Елена Уровень  2\n",
      "8\n",
      "Елена Уровень  2\n",
      "11\n",
      "Елена Уровень  2\n",
      "14\n",
      "Елена Уровень  3\n",
      "15\n",
      "Елена Уровень  3\n",
      "16\n",
      "Елена Уровень  3\n",
      "17\n",
      "Елена Уровень  3\n",
      "18\n",
      "Елена Уровень  3\n",
      "19\n",
      "Елена Уровень  3\n",
      "20\n",
      "Елена Уровень  3\n",
      "21\n",
      "Елена Уровень  4\n",
      "22\n",
      "Елена Уровень  4\n",
      "25\n",
      "Елена Уровень  4\n",
      "28\n",
      "Елена Уровень  5\n",
      "31\n",
      "Елена Уровень  5\n",
      "34\n",
      "Елена Уровень  5\n",
      "35\n",
      "Елена Уровень  6\n",
      "36\n",
      "Елена Уровень  6\n",
      "39\n",
      "Елена Уровень  6\n",
      "40\n",
      "Елена Уровень  6\n"
     ]
    }
   ],
   "source": [
    "import random\n",
    "class Designer:\n",
    "    def __init__(self, name, seniority,awards):\n",
    "        self.name = name\n",
    "        self.seniority = seniority+(awards*2)\n",
    "        self.awards=awards\n",
    "        self.grade = 1\n",
    "        self.count=seniority+(awards*2)\n",
    "    def grade_up(self):\n",
    "        \"\"\"Повышает уровень сотрудника\"\"\"\n",
    "        self.grade += 1\n",
    "    # получение премий \n",
    "    def getawards(self):\n",
    "        c=random.randint(0,1)\n",
    "        self.awards+=c\n",
    "        self.seniority+=c*2   \n",
    "        self.count+=c*2\n",
    "    def publish_grade(self):\n",
    "        \"\"\"Публикация результатов аккредитации сотрудников\"\"\"\n",
    "        print(self.name,\"Уровень \", self.grade)\n",
    "    \n",
    "    def check_if_it_is_time_for_upgrade(self):\n",
    "        self.getawards()\n",
    "        # для каждой аккредитации увеличиваем счетчик на 1\n",
    "        # пока считаем, что все разработчики проходят аккредитацию\n",
    "        self.seniority += 1\n",
    "        self.count+=1\n",
    "        # условие повышения сотрудника\n",
    "        print(self.seniority)\n",
    "        if self.count>=7:\n",
    "            self.grade_up()\n",
    "            self.count-=7\n",
    "        # публикация результатов\n",
    "        return self.publish_grade()\n",
    "\n",
    "\n",
    "elena = Designer('Елена', seniority=0, awards=2)\n",
    "for i in range(20):\n",
    "    elena.check_if_it_is_time_for_upgrade()"
   ]
  }
 ],
 "metadata": {
  "kernelspec": {
   "display_name": "Python 3",
   "language": "python",
   "name": "python3"
  },
  "language_info": {
   "codemirror_mode": {
    "name": "ipython",
    "version": 3
   },
   "file_extension": ".py",
   "mimetype": "text/x-python",
   "name": "python",
   "nbconvert_exporter": "python",
   "pygments_lexer": "ipython3",
   "version": "3.8.3"
  }
 },
 "nbformat": 4,
 "nbformat_minor": 4
}
