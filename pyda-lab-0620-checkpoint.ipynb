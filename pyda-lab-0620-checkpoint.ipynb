{
 "cells": [
  {
   "cell_type": "markdown",
   "metadata": {},
   "source": [
    "## Лабораторная работа по курсу «Python для анализа данных»"
   ]
  },
  {
   "cell_type": "markdown",
   "metadata": {},
   "source": [
    "### При выполнении работы допускается использование любых внешних модулей и пакетов."
   ]
  },
  {
   "cell_type": "markdown",
   "metadata": {},
   "source": [
    "#### Задача 1"
   ]
  },
  {
   "cell_type": "markdown",
   "metadata": {},
   "source": [
    "Дана строка:"
   ]
  },
  {
   "cell_type": "code",
   "execution_count": 1,
   "metadata": {},
   "outputs": [],
   "source": [
    "stroka=\"History is always written by the winners. When two cultures clash, the loser is obliterated, and the winner writes the history books - books which glorify their own cause and disparage the conquered foe. As Napoleon once said, 'What is history, but a fable agreed upon?'\""
   ]
  },
  {
   "cell_type": "markdown",
   "metadata": {},
   "source": [
    "1. Посчитайте, сколько в строке символов, исключая пробелы:"
   ]
  },
  {
   "cell_type": "code",
   "execution_count": 2,
   "metadata": {},
   "outputs": [
    {
     "data": {
      "text/plain": [
       "225"
      ]
     },
     "execution_count": 2,
     "metadata": {},
     "output_type": "execute_result"
    }
   ],
   "source": [
    "len(stroka)\n",
    "i=0\n",
    "s=0\n",
    "for letter in stroka:\n",
    "    if stroka[i]!=' ':\n",
    "        s+=1\n",
    "        i+=1\n",
    "    else: i+=1\n",
    "s"
   ]
  },
  {
   "cell_type": "markdown",
   "metadata": {},
   "source": [
    "2. Посчитайте, сколько в строке слов."
   ]
  },
  {
   "cell_type": "code",
   "execution_count": 3,
   "metadata": {},
   "outputs": [
    {
     "name": "stdout",
     "output_type": "stream",
     "text": [
      "46\n"
     ]
    }
   ],
   "source": [
    "my_list=stroka.split()\n",
    "my_list1=len(my_list)-1\n",
    "my_list1\n",
    "print(len(stroka.split()))"
   ]
  },
  {
   "cell_type": "markdown",
   "metadata": {},
   "source": [
    "3. Напишите функцию, которая будет принимать в качестве аргумента букву и выводить все слова из строки, начинающиеся на эту букву (например, “w”)."
   ]
  },
  {
   "cell_type": "code",
   "execution_count": 14,
   "metadata": {
    "scrolled": true
   },
   "outputs": [
    {
     "name": "stdout",
     "output_type": "stream",
     "text": [
      "Введите букву: w\n",
      "w\n",
      "r\n",
      "i\n",
      "t\n",
      "t\n",
      "e\n",
      "n\n",
      "  \n",
      "w\n",
      "i\n",
      "n\n",
      "n\n",
      "e\n",
      "r\n",
      "s\n",
      "  \n",
      "w\n",
      "i\n",
      "n\n",
      "n\n",
      "e\n",
      "r\n",
      "  \n",
      "w\n",
      "r\n",
      "i\n",
      "t\n",
      "e\n",
      "s\n",
      "  \n",
      "w\n",
      "h\n",
      "i\n",
      "c\n",
      "h\n",
      "  \n"
     ]
    }
   ],
   "source": [
    "bukva=input('Введите букву: ')\n",
    "\n",
    "def print_slovo(bukva):\n",
    "    s=len(stroka)\n",
    "    s\n",
    "    i=0\n",
    "    while i<270:\n",
    "        if stroka[i]==bukva:\n",
    "            if stroka[i-1]==' ':\n",
    "                while stroka[i]!=' ':\n",
    "                    print(stroka[i])\n",
    "                    if stroka[i+1]=='.':\n",
    "                        i+=2\n",
    "                    else: i+=1\n",
    "                print('  ')\n",
    "                if stroka[i+1]=='.':\n",
    "                    i+=1\n",
    "            else: i+=1\n",
    "        else: i+=1\n",
    "print_slovo(bukva)"
   ]
  },
  {
   "cell_type": "code",
   "execution_count": 25,
   "metadata": {
    "collapsed": true
   },
   "outputs": [
    {
     "ename": "NameError",
     "evalue": "name 're' is not defined",
     "output_type": "error",
     "traceback": [
      "\u001b[1;31m---------------------------------------------------------------------------\u001b[0m",
      "\u001b[1;31mNameError\u001b[0m                                 Traceback (most recent call last)",
      "\u001b[1;32m<ipython-input-25-981cd2db10df>\u001b[0m in \u001b[0;36m<module>\u001b[1;34m\u001b[0m\n\u001b[1;32m----> 1\u001b[1;33m \u001b[0mresult\u001b[0m \u001b[1;33m=\u001b[0m \u001b[0mre\u001b[0m\u001b[1;33m.\u001b[0m\u001b[0mfindall\u001b[0m\u001b[1;33m(\u001b[0m\u001b[1;34mr'w\\w*'\u001b[0m\u001b[1;33m,\u001b[0m\u001b[0mstring\u001b[0m\u001b[1;33m)\u001b[0m\u001b[1;33m\u001b[0m\u001b[1;33m\u001b[0m\u001b[0m\n\u001b[0m",
      "\u001b[1;31mNameError\u001b[0m: name 're' is not defined"
     ]
    }
   ],
   "source": []
  },
  {
   "cell_type": "markdown",
   "metadata": {},
   "source": [
    "#### Задача 2"
   ]
  },
  {
   "cell_type": "markdown",
   "metadata": {},
   "source": [
    "Напишите код, который будет генерировать случайную последовательность из 6 цифр, одна из которых должна быть 3. Позиция цифры 3 должна\n",
    "определяться случайным образом. Результат должен быть строкой. Например: \"456309\" или \"330127\"."
   ]
  },
  {
   "cell_type": "code",
   "execution_count": 87,
   "metadata": {},
   "outputs": [
    {
     "data": {
      "text/plain": [
       "'797563'"
      ]
     },
     "execution_count": 87,
     "metadata": {},
     "output_type": "execute_result"
    }
   ],
   "source": [
    "import random\n",
    "i=1\n",
    "s=0\n",
    "while s==0:\n",
    "    chislo=random.randint(100000,999999)\n",
    "    number=str(chislo)\n",
    "    for i in range(len(number)):\n",
    "            if number[i]=='3':\n",
    "                s+=1\n",
    "            else:\n",
    "                i+=1\n",
    "number"
   ]
  },
  {
   "cell_type": "markdown",
   "metadata": {},
   "source": [
    "#### Задача 3"
   ]
  },
  {
   "cell_type": "markdown",
   "metadata": {},
   "source": [
    "Дан список:"
   ]
  },
  {
   "cell_type": "code",
   "execution_count": 9,
   "metadata": {},
   "outputs": [],
   "source": [
    "list_01 = [1, 1, 2, 3, 5, 8, 13, 21, 34, 55, 89, 144, 233, 377, 610, 14, 46, 273, 22, 99, 15, 1000]"
   ]
  },
  {
   "cell_type": "markdown",
   "metadata": {},
   "source": [
    "Напишите алгоритм, который выводит число, равное сумме элементов списка, которые больше 10, но меньше 100, и которые больше 200, но меньше 500."
   ]
  },
  {
   "cell_type": "code",
   "execution_count": 41,
   "metadata": {
    "scrolled": true
   },
   "outputs": [
    {
     "name": "stdout",
     "output_type": "stream",
     "text": [
      "13\n",
      "34\n",
      "68\n",
      "123\n",
      "212\n",
      "445\n",
      "822\n"
     ]
    }
   ],
   "source": [
    "i=0\n",
    "s=0\n",
    "while list_01[i]<100:\n",
    "    if list_01[i]>10:\n",
    "        s+=list_01[i]\n",
    "        print(s)\n",
    "        i+=1\n",
    "    else:\n",
    "        i+=1\n",
    "while list_01[i]<200:\n",
    "        i+=1\n",
    "while list_01[i]<500:\n",
    "    if list_01[i]>200:\n",
    "        s+=list_01[i]\n",
    "        i+=1\n",
    "        print(s)"
   ]
  },
  {
   "cell_type": "markdown",
   "metadata": {},
   "source": [
    "#### Задача 4"
   ]
  },
  {
   "cell_type": "markdown",
   "metadata": {},
   "source": [
    "Данные студентов представлены в виде списка списков:"
   ]
  },
  {
   "cell_type": "code",
   "execution_count": 2,
   "metadata": {},
   "outputs": [],
   "source": [
    "students = [\n",
    "[\"0001\", \"Антонов\", \"Антон\", \"Игоревич\", \"20.08.2009\",\"БСТ161\"],\n",
    "[\"1102\", \"Богов\", \"Артем\", \"Игоревич\", \"25.01.2010\",\"БСТ162\"],\n",
    "[\"0333\", \"Глаголева\", \"Анастасия\", \"Николаевна\", \"11.07.2009\", \"БСТ163\"],\n",
    "[\"4004\", \"Степанова\", \"Наталья\", \"Александровна\", \"13.02.2008\", \"БСТ161\"],\n",
    "[\"0045\", \"Боков\", \"Игорь\", \"Харитонович\", \"02.06.2009\", \"БСТ161\"],\n",
    "[\"0096\", \"Васильков\", \"Валентин\", \"Сергеевич\", \"20.03.2009\", \"БСТ164\"],\n",
    "[\"0607\", \"Сиропова\", \"Виолетта\", \"Эдуардовна\", \"28.05.2010\", \"БСТ162\"]\n",
    "    ]"
   ]
  },
  {
   "cell_type": "markdown",
   "metadata": {},
   "source": [
    "1. Преобразуйте данные таким образом, чтобы они были представлены в виде словаря, в котором ключами являются номера студентов, а значениями — список из других данных о студентах."
   ]
  },
  {
   "cell_type": "code",
   "execution_count": 2,
   "metadata": {},
   "outputs": [
    {
     "name": "stdout",
     "output_type": "stream",
     "text": [
      "{'0001': ['Антонов', 'Антон', 'Игоревич', '20.08.2009', 'БСТ161'], '1102': ['Богов', 'Артем', 'Игоревич', '25.01.2010', 'БСТ162'], '0333': ['Глаголева', 'Анастасия', 'Николаевна', '11.07.2009', 'БСТ163'], '4004': ['Степанова', 'Наталья', 'Александровна', '13.02.2008', 'БСТ161'], '0045': ['Боков', 'Игорь', 'Харитонович', '02.06.2009', 'БСТ161'], '0096': ['Васильков', 'Валентин', 'Сергеевич', '20.03.2009', 'БСТ164'], '0607': ['Сиропова', 'Виолетта', 'Эдуардовна', '28.05.2010', 'БСТ162']}\n"
     ]
    }
   ],
   "source": [
    "myDict={}\n",
    "myDict[\"0001\"]=[\"Антонов\", \"Антон\", \"Игоревич\", \"20.08.2009\",\"БСТ161\"]\n",
    "myDict[\"1102\"]=[\"Богов\", \"Артем\", \"Игоревич\", \"25.01.2010\",\"БСТ162\"]\n",
    "myDict[\"0333\"]=[\"Глаголева\", \"Анастасия\", \"Николаевна\", \"11.07.2009\", \"БСТ163\"]\n",
    "myDict[\"4004\"]=[\"Степанова\", \"Наталья\", \"Александровна\", \"13.02.2008\", \"БСТ161\"]\n",
    "myDict[\"0045\"]=[\"Боков\", \"Игорь\", \"Харитонович\", \"02.06.2009\", \"БСТ161\"]\n",
    "myDict[\"0096\"]=[\"Васильков\", \"Валентин\", \"Сергеевич\", \"20.03.2009\", \"БСТ164\"]\n",
    "myDict[\"0607\"]=[\"Сиропова\", \"Виолетта\", \"Эдуардовна\", \"28.05.2010\", \"БСТ162\"]\n",
    "print(myDict)"
   ]
  },
  {
   "cell_type": "markdown",
   "metadata": {},
   "source": [
    "2. Напишите функцию, которая принимает в качестве аргумента номер студента и новый номер группы и позволяет изменить номер группы этого студента на новый внутри созданного словаря."
   ]
  },
  {
   "cell_type": "code",
   "execution_count": 5,
   "metadata": {},
   "outputs": [
    {
     "name": "stdout",
     "output_type": "stream",
     "text": [
      "введите номер студента: 4004\n",
      "Введите новый номер группы: БПО-18-02\n",
      "['Степанова', 'Наталья', 'Александровна', '13.02.2008', 'БПО-18-02']\n"
     ]
    }
   ],
   "source": [
    "nomer=input(\"введите номер студента: \")\n",
    "nov_nom_gr=input(\"Введите новый номер группы: \")\n",
    "def izm_group (nomer,nov_nom_gr):\n",
    "    myDict[nomer][4]=nov_nom_gr\n",
    "izm_group(nomer,nov_nom_gr)\n",
    "print(myDict[nomer])\n"
   ]
  },
  {
   "cell_type": "markdown",
   "metadata": {},
   "source": [
    "3. Напишите функцию, которая принимает номер группы и выводит список (фамилии, имена, отчества) всех студентов этой группы. Необходимо обращаться к словарю."
   ]
  },
  {
   "cell_type": "code",
   "execution_count": 4,
   "metadata": {},
   "outputs": [
    {
     "name": "stdout",
     "output_type": "stream",
     "text": [
      "Введите номер группы: БСТ162\n",
      "Богов\n",
      "Артем\n",
      "Игоревич\n",
      "  \n",
      "Сиропова\n",
      "Виолетта\n",
      "Эдуардовна\n",
      "  \n"
     ]
    }
   ],
   "source": [
    "def fio(nom_gr):\n",
    "    i=0\n",
    "    while i<7:\n",
    "        if myDict[nomer[i]][4]==nom_gr:\n",
    "            x=0\n",
    "            while x<3:\n",
    "                print(myDict[nomer[i]][x])\n",
    "                x+=1\n",
    "            i+=1\n",
    "            print('  ')\n",
    "        else:\n",
    "            i+=1\n",
    "nomer=[\"0001\",\"1102\",\"0333\",\"4004\",\"0045\",\"0096\",\"0607\"]\n",
    "nom_gr=input(\"Введите номер группы: \")\n",
    "fio(nom_gr)"
   ]
  },
  {
   "cell_type": "markdown",
   "metadata": {},
   "source": [
    "#### Задача 5"
   ]
  },
  {
   "cell_type": "markdown",
   "metadata": {},
   "source": [
    "Дана матрица:"
   ]
  },
  {
   "cell_type": "code",
   "execution_count": 6,
   "metadata": {},
   "outputs": [],
   "source": [
    "matrix = [ \n",
    "    [0,1,2,4,8], \n",
    "    [6,2,2,1,9], \n",
    "    [3,3,3,3,3], \n",
    "    [4,6,7,1,2], \n",
    "    [5,7,3,4,0] \n",
    "]"
   ]
  },
  {
   "cell_type": "markdown",
   "metadata": {},
   "source": [
    "1. Выведите результат сложения всех элементов матрицы."
   ]
  },
  {
   "cell_type": "code",
   "execution_count": 7,
   "metadata": {},
   "outputs": [
    {
     "data": {
      "text/plain": [
       "89"
      ]
     },
     "execution_count": 7,
     "metadata": {},
     "output_type": "execute_result"
    }
   ],
   "source": [
    "x=len(matrix)\n",
    "sum_ = 0\n",
    "a = 0\n",
    "while a != x: \n",
    "    sum_+= int(sum(matrix[a]))\n",
    "    a=a+1  \n",
    "sum_"
   ]
  },
  {
   "cell_type": "markdown",
   "metadata": {},
   "source": [
    "2. Напишите алгоритм вычисления максимума из сумм элементов каждого столбца."
   ]
  },
  {
   "cell_type": "code",
   "execution_count": 15,
   "metadata": {},
   "outputs": [
    {
     "data": {
      "text/plain": [
       "20"
      ]
     },
     "execution_count": 15,
     "metadata": {},
     "output_type": "execute_result"
    }
   ],
   "source": [
    "x=len(matrix)\n",
    "max = 0\n",
    "a = 0\n",
    "while a != x: \n",
    "    if max < sum(matrix[a]):\n",
    "              max=int(sum(matrix[a]))\n",
    "    a=a+1  \n",
    "max"
   ]
  }
 ],
 "metadata": {
  "kernelspec": {
   "display_name": "Python 3",
   "language": "python",
   "name": "python3"
  },
  "language_info": {
   "codemirror_mode": {
    "name": "ipython",
    "version": 3
   },
   "file_extension": ".py",
   "mimetype": "text/x-python",
   "name": "python",
   "nbconvert_exporter": "python",
   "pygments_lexer": "ipython3",
   "version": "3.8.3"
  }
 },
 "nbformat": 4,
 "nbformat_minor": 2
}
